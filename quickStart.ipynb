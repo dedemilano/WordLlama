{
 "cells": [
  {
   "cell_type": "code",
   "execution_count": 1,
   "metadata": {},
   "outputs": [
    {
     "name": "stdout",
     "output_type": "stream",
     "text": [
      "Collecting wordllama\n",
      "  Downloading wordllama-0.2.8.post0-cp310-cp310-win_amd64.whl.metadata (11 kB)\n",
      "Requirement already satisfied: numpy in c:\\users\\gueid\\appdata\\local\\programs\\python\\python310\\lib\\site-packages (from wordllama) (1.26.4)\n",
      "Requirement already satisfied: safetensors in c:\\users\\gueid\\appdata\\local\\programs\\python\\python310\\lib\\site-packages (from wordllama) (0.4.3)\n",
      "Requirement already satisfied: tokenizers in c:\\users\\gueid\\appdata\\local\\programs\\python\\python310\\lib\\site-packages (from wordllama) (0.19.1)\n",
      "Requirement already satisfied: toml in c:\\users\\gueid\\appdata\\local\\programs\\python\\python310\\lib\\site-packages (from wordllama) (0.10.2)\n",
      "Requirement already satisfied: pydantic>=2 in c:\\users\\gueid\\appdata\\local\\programs\\python\\python310\\lib\\site-packages (from wordllama) (2.7.2)\n",
      "Requirement already satisfied: requests in c:\\users\\gueid\\appdata\\local\\programs\\python\\python310\\lib\\site-packages (from wordllama) (2.32.2)\n",
      "Requirement already satisfied: annotated-types>=0.4.0 in c:\\users\\gueid\\appdata\\local\\programs\\python\\python310\\lib\\site-packages (from pydantic>=2->wordllama) (0.7.0)\n",
      "Requirement already satisfied: pydantic-core==2.18.3 in c:\\users\\gueid\\appdata\\local\\programs\\python\\python310\\lib\\site-packages (from pydantic>=2->wordllama) (2.18.3)\n",
      "Requirement already satisfied: typing-extensions>=4.6.1 in c:\\users\\gueid\\appdata\\local\\programs\\python\\python310\\lib\\site-packages (from pydantic>=2->wordllama) (4.10.0)\n",
      "Requirement already satisfied: charset-normalizer<4,>=2 in c:\\users\\gueid\\appdata\\local\\programs\\python\\python310\\lib\\site-packages (from requests->wordllama) (3.3.2)\n",
      "Requirement already satisfied: idna<4,>=2.5 in c:\\users\\gueid\\appdata\\local\\programs\\python\\python310\\lib\\site-packages (from requests->wordllama) (3.6)\n",
      "Requirement already satisfied: urllib3<3,>=1.21.1 in c:\\users\\gueid\\appdata\\local\\programs\\python\\python310\\lib\\site-packages (from requests->wordllama) (2.2.1)\n",
      "Requirement already satisfied: certifi>=2017.4.17 in c:\\users\\gueid\\appdata\\local\\programs\\python\\python310\\lib\\site-packages (from requests->wordllama) (2024.2.2)\n",
      "Requirement already satisfied: huggingface-hub<1.0,>=0.16.4 in c:\\users\\gueid\\appdata\\local\\programs\\python\\python310\\lib\\site-packages (from tokenizers->wordllama) (0.23.2)\n",
      "Requirement already satisfied: filelock in c:\\users\\gueid\\appdata\\local\\programs\\python\\python310\\lib\\site-packages (from huggingface-hub<1.0,>=0.16.4->tokenizers->wordllama) (3.13.1)\n",
      "Requirement already satisfied: fsspec>=2023.5.0 in c:\\users\\gueid\\appdata\\local\\programs\\python\\python310\\lib\\site-packages (from huggingface-hub<1.0,>=0.16.4->tokenizers->wordllama) (2024.6.0)\n",
      "Requirement already satisfied: packaging>=20.9 in c:\\users\\gueid\\appdata\\local\\programs\\python\\python310\\lib\\site-packages (from huggingface-hub<1.0,>=0.16.4->tokenizers->wordllama) (24.0)\n",
      "Requirement already satisfied: pyyaml>=5.1 in c:\\users\\gueid\\appdata\\local\\programs\\python\\python310\\lib\\site-packages (from huggingface-hub<1.0,>=0.16.4->tokenizers->wordllama) (6.0.1)\n",
      "Requirement already satisfied: tqdm>=4.42.1 in c:\\users\\gueid\\appdata\\local\\programs\\python\\python310\\lib\\site-packages (from huggingface-hub<1.0,>=0.16.4->tokenizers->wordllama) (4.66.4)\n",
      "Requirement already satisfied: colorama in c:\\users\\gueid\\appdata\\local\\programs\\python\\python310\\lib\\site-packages (from tqdm>=4.42.1->huggingface-hub<1.0,>=0.16.4->tokenizers->wordllama) (0.4.6)\n",
      "Downloading wordllama-0.2.8.post0-cp310-cp310-win_amd64.whl (16.5 MB)\n",
      "   ---------------------------------------- 0.0/16.5 MB ? eta -:--:--\n",
      "   ---------------------------------------- 0.0/16.5 MB ? eta -:--:--\n",
      "    --------------------------------------- 0.3/16.5 MB ? eta -:--:--\n",
      "   - -------------------------------------- 0.5/16.5 MB 882.6 kB/s eta 0:00:19\n",
      "   - -------------------------------------- 0.8/16.5 MB 859.5 kB/s eta 0:00:19\n",
      "   - -------------------------------------- 0.8/16.5 MB 859.5 kB/s eta 0:00:19\n",
      "   -- ------------------------------------- 1.0/16.5 MB 931.8 kB/s eta 0:00:17\n",
      "   --- ------------------------------------ 1.3/16.5 MB 919.0 kB/s eta 0:00:17\n",
      "   --- ------------------------------------ 1.6/16.5 MB 921.7 kB/s eta 0:00:17\n",
      "   --- ------------------------------------ 1.6/16.5 MB 921.7 kB/s eta 0:00:17\n",
      "   ---- ----------------------------------- 1.8/16.5 MB 890.6 kB/s eta 0:00:17\n",
      "   ----- ---------------------------------- 2.1/16.5 MB 903.1 kB/s eta 0:00:16\n",
      "   ----- ---------------------------------- 2.1/16.5 MB 903.1 kB/s eta 0:00:16\n",
      "   ----- ---------------------------------- 2.4/16.5 MB 913.0 kB/s eta 0:00:16\n",
      "   ------ --------------------------------- 2.6/16.5 MB 909.5 kB/s eta 0:00:16\n",
      "   ------- -------------------------------- 2.9/16.5 MB 901.8 kB/s eta 0:00:16\n",
      "   ------- -------------------------------- 2.9/16.5 MB 901.8 kB/s eta 0:00:16\n",
      "   ------- -------------------------------- 3.1/16.5 MB 874.6 kB/s eta 0:00:16\n",
      "   ------- -------------------------------- 3.1/16.5 MB 874.6 kB/s eta 0:00:16\n",
      "   -------- ------------------------------- 3.4/16.5 MB 853.0 kB/s eta 0:00:16\n",
      "   -------- ------------------------------- 3.4/16.5 MB 853.0 kB/s eta 0:00:16\n",
      "   -------- ------------------------------- 3.7/16.5 MB 842.1 kB/s eta 0:00:16\n",
      "   --------- ------------------------------ 3.9/16.5 MB 850.9 kB/s eta 0:00:15\n",
      "   --------- ------------------------------ 3.9/16.5 MB 850.9 kB/s eta 0:00:15\n",
      "   ---------- ----------------------------- 4.2/16.5 MB 853.0 kB/s eta 0:00:15\n",
      "   ---------- ----------------------------- 4.5/16.5 MB 854.8 kB/s eta 0:00:15\n",
      "   ----------- ---------------------------- 4.7/16.5 MB 864.2 kB/s eta 0:00:14\n",
      "   ------------ --------------------------- 5.0/16.5 MB 870.3 kB/s eta 0:00:14\n",
      "   ------------ --------------------------- 5.0/16.5 MB 870.3 kB/s eta 0:00:14\n",
      "   ------------ --------------------------- 5.2/16.5 MB 880.5 kB/s eta 0:00:13\n",
      "   ------------- -------------------------- 5.5/16.5 MB 876.0 kB/s eta 0:00:13\n",
      "   ------------- -------------------------- 5.5/16.5 MB 876.0 kB/s eta 0:00:13\n",
      "   -------------- ------------------------- 5.8/16.5 MB 863.5 kB/s eta 0:00:13\n",
      "   -------------- ------------------------- 5.8/16.5 MB 863.5 kB/s eta 0:00:13\n",
      "   -------------- ------------------------- 6.0/16.5 MB 862.3 kB/s eta 0:00:13\n",
      "   --------------- ------------------------ 6.3/16.5 MB 848.0 kB/s eta 0:00:13\n",
      "   --------------- ------------------------ 6.3/16.5 MB 848.0 kB/s eta 0:00:13\n",
      "   --------------- ------------------------ 6.6/16.5 MB 838.9 kB/s eta 0:00:12\n",
      "   --------------- ------------------------ 6.6/16.5 MB 838.9 kB/s eta 0:00:12\n",
      "   ---------------- ----------------------- 6.8/16.5 MB 842.1 kB/s eta 0:00:12\n",
      "   ----------------- ---------------------- 7.1/16.5 MB 843.6 kB/s eta 0:00:12\n",
      "   ----------------- ---------------------- 7.3/16.5 MB 848.3 kB/s eta 0:00:11\n",
      "   ----------------- ---------------------- 7.3/16.5 MB 848.3 kB/s eta 0:00:11\n",
      "   ------------------ --------------------- 7.6/16.5 MB 840.3 kB/s eta 0:00:11\n",
      "   ------------------ --------------------- 7.6/16.5 MB 840.3 kB/s eta 0:00:11\n",
      "   ------------------- -------------------- 7.9/16.5 MB 833.1 kB/s eta 0:00:11\n",
      "   ------------------- -------------------- 7.9/16.5 MB 833.1 kB/s eta 0:00:11\n",
      "   ------------------- -------------------- 8.1/16.5 MB 831.9 kB/s eta 0:00:11\n",
      "   -------------------- ------------------- 8.4/16.5 MB 832.1 kB/s eta 0:00:10\n",
      "   -------------------- ------------------- 8.4/16.5 MB 832.1 kB/s eta 0:00:10\n",
      "   --------------------- ------------------ 8.7/16.5 MB 824.7 kB/s eta 0:00:10\n",
      "   --------------------- ------------------ 8.7/16.5 MB 824.7 kB/s eta 0:00:10\n",
      "   --------------------- ------------------ 8.9/16.5 MB 820.2 kB/s eta 0:00:10\n",
      "   --------------------- ------------------ 8.9/16.5 MB 820.2 kB/s eta 0:00:10\n",
      "   ---------------------- ----------------- 9.2/16.5 MB 812.6 kB/s eta 0:00:09\n",
      "   ---------------------- ----------------- 9.2/16.5 MB 812.6 kB/s eta 0:00:09\n",
      "   ---------------------- ----------------- 9.4/16.5 MB 806.6 kB/s eta 0:00:09\n",
      "   ---------------------- ----------------- 9.4/16.5 MB 806.6 kB/s eta 0:00:09\n",
      "   ----------------------- ---------------- 9.7/16.5 MB 801.0 kB/s eta 0:00:09\n",
      "   ------------------------ --------------- 10.0/16.5 MB 799.9 kB/s eta 0:00:09\n",
      "   ------------------------ --------------- 10.0/16.5 MB 799.9 kB/s eta 0:00:09\n",
      "   ------------------------ --------------- 10.2/16.5 MB 791.0 kB/s eta 0:00:08\n",
      "   ------------------------ --------------- 10.2/16.5 MB 791.0 kB/s eta 0:00:08\n",
      "   ------------------------- -------------- 10.5/16.5 MB 790.2 kB/s eta 0:00:08\n",
      "   ------------------------- -------------- 10.5/16.5 MB 790.2 kB/s eta 0:00:08\n",
      "   -------------------------- ------------- 10.7/16.5 MB 787.6 kB/s eta 0:00:08\n",
      "   -------------------------- ------------- 11.0/16.5 MB 787.9 kB/s eta 0:00:07\n",
      "   -------------------------- ------------- 11.0/16.5 MB 787.9 kB/s eta 0:00:07\n",
      "   --------------------------- ------------ 11.3/16.5 MB 791.7 kB/s eta 0:00:07\n",
      "   --------------------------- ------------ 11.3/16.5 MB 791.7 kB/s eta 0:00:07\n",
      "   ---------------------------- ----------- 11.5/16.5 MB 785.8 kB/s eta 0:00:07\n",
      "   ---------------------------- ----------- 11.8/16.5 MB 787.8 kB/s eta 0:00:06\n",
      "   ---------------------------- ----------- 11.8/16.5 MB 787.8 kB/s eta 0:00:06\n",
      "   ----------------------------- ---------- 12.1/16.5 MB 787.2 kB/s eta 0:00:06\n",
      "   ----------------------------- ---------- 12.1/16.5 MB 787.2 kB/s eta 0:00:06\n",
      "   ----------------------------- ---------- 12.3/16.5 MB 783.5 kB/s eta 0:00:06\n",
      "   ----------------------------- ---------- 12.3/16.5 MB 783.5 kB/s eta 0:00:06\n",
      "   ------------------------------ --------- 12.6/16.5 MB 780.7 kB/s eta 0:00:05\n",
      "   ------------------------------- -------- 12.8/16.5 MB 780.3 kB/s eta 0:00:05\n",
      "   ------------------------------- -------- 12.8/16.5 MB 780.3 kB/s eta 0:00:05\n",
      "   ------------------------------- -------- 13.1/16.5 MB 778.5 kB/s eta 0:00:05\n",
      "   ------------------------------- -------- 13.1/16.5 MB 778.5 kB/s eta 0:00:05\n",
      "   -------------------------------- ------- 13.4/16.5 MB 776.7 kB/s eta 0:00:04\n",
      "   --------------------------------- ------ 13.6/16.5 MB 776.4 kB/s eta 0:00:04\n",
      "   --------------------------------- ------ 13.6/16.5 MB 776.4 kB/s eta 0:00:04\n",
      "   --------------------------------- ------ 13.9/16.5 MB 776.9 kB/s eta 0:00:04\n",
      "   --------------------------------- ------ 13.9/16.5 MB 776.9 kB/s eta 0:00:04\n",
      "   ---------------------------------- ----- 14.2/16.5 MB 773.8 kB/s eta 0:00:03\n",
      "   ---------------------------------- ----- 14.2/16.5 MB 773.8 kB/s eta 0:00:03\n",
      "   ----------------------------------- ---- 14.4/16.5 MB 771.7 kB/s eta 0:00:03\n",
      "   ----------------------------------- ---- 14.7/16.5 MB 772.2 kB/s eta 0:00:03\n",
      "   ----------------------------------- ---- 14.7/16.5 MB 772.2 kB/s eta 0:00:03\n",
      "   ------------------------------------ --- 14.9/16.5 MB 770.1 kB/s eta 0:00:02\n",
      "   ------------------------------------ --- 14.9/16.5 MB 770.1 kB/s eta 0:00:02\n",
      "   ------------------------------------ --- 15.2/16.5 MB 769.9 kB/s eta 0:00:02\n",
      "   ------------------------------------- -- 15.5/16.5 MB 768.0 kB/s eta 0:00:02\n",
      "   ------------------------------------- -- 15.5/16.5 MB 768.0 kB/s eta 0:00:02\n",
      "   -------------------------------------- - 15.7/16.5 MB 765.5 kB/s eta 0:00:01\n",
      "   -------------------------------------- - 15.7/16.5 MB 765.5 kB/s eta 0:00:01\n",
      "   -------------------------------------- - 16.0/16.5 MB 763.2 kB/s eta 0:00:01\n",
      "   -------------------------------------- - 16.0/16.5 MB 763.2 kB/s eta 0:00:01\n",
      "   ---------------------------------------  16.3/16.5 MB 762.0 kB/s eta 0:00:01\n",
      "   ---------------------------------------  16.3/16.5 MB 762.0 kB/s eta 0:00:01\n",
      "   ---------------------------------------- 16.5/16.5 MB 761.2 kB/s eta 0:00:00\n",
      "Installing collected packages: wordllama\n",
      "Successfully installed wordllama-0.2.8.post0\n"
     ]
    }
   ],
   "source": [
    "!pip install wordllama\n"
   ]
  },
  {
   "cell_type": "code",
   "execution_count": 2,
   "metadata": {},
   "outputs": [
    {
     "name": "stderr",
     "output_type": "stream",
     "text": [
      "INFO:wordllama.wordllama:Downloading l2_supercat_tokenizer_config.json from https://huggingface.co/dleemiller/word-llama-l2-supercat/resolve/main/l2_supercat_tokenizer_config.json\n"
     ]
    },
    {
     "name": "stdout",
     "output_type": "stream",
     "text": [
      "0.06641249358654022\n"
     ]
    }
   ],
   "source": [
    "from wordllama import WordLlama\n",
    "\n",
    "wl = WordLlama.load()\n",
    "\n",
    "similarity_score = wl.similarity(\"i went to the car\", \"i went to the pawn shop\")\n",
    "\n",
    "print(similarity_score)\n",
    "\n",
    "\n"
   ]
  },
  {
   "cell_type": "code",
   "execution_count": 3,
   "metadata": {},
   "outputs": [
    {
     "name": "stdout",
     "output_type": "stream",
     "text": [
      "[('i went to the vehicle', 0.744164764881134), ('i went to the truck', 0.28326916694641113), ('i went to the shop', 0.1973281353712082), ('i went to the park', 0.1510140299797058)]\n"
     ]
    }
   ],
   "source": [
    "query = \"i went to the car\"\n",
    "candidates = [\"i went to the park\", \"i went to the shop\", \"i went to the truck\", \"i went to the vehicle\"]\n",
    "\n",
    "ranked_docs = wl.rank(query, candidates)\n",
    "print(ranked_docs)"
   ]
  },
  {
   "cell_type": "code",
   "execution_count": 7,
   "metadata": {},
   "outputs": [
    {
     "data": {
      "text/plain": [
       "['i went to the park',\n",
       " 'i went to the shop',\n",
       " 'i went to the truck',\n",
       " 'i went to the vehicle']"
      ]
     },
     "execution_count": 7,
     "metadata": {},
     "output_type": "execute_result"
    }
   ],
   "source": [
    "wl.deduplicate(candidates , threshold=0.8)  \n"
   ]
  },
  {
   "cell_type": "code",
   "execution_count": 8,
   "metadata": {},
   "outputs": [
    {
     "name": "stderr",
     "output_type": "stream",
     "text": [
      "INFO:kmeans_logger:Initialization 1/10: Inertia = 1.35, Iterations = 5, Time = 0.00 seconds\n",
      "INFO:kmeans_logger:New best inertia: 1.35\n",
      "INFO:kmeans_logger:Initialization 2/10: Inertia = 1.27, Iterations = 5, Time = 0.00 seconds\n",
      "INFO:kmeans_logger:New best inertia: 1.27\n",
      "INFO:kmeans_logger:Initialization 3/10: Inertia = 1.35, Iterations = 5, Time = 0.00 seconds\n",
      "INFO:kmeans_logger:Initialization 4/10: Inertia = 1.27, Iterations = 5, Time = 0.00 seconds\n",
      "INFO:kmeans_logger:Initialization 5/10: Inertia = 1.35, Iterations = 5, Time = 0.00 seconds\n",
      "INFO:kmeans_logger:Initialization 6/10: Inertia = 1.35, Iterations = 5, Time = 0.00 seconds\n",
      "INFO:kmeans_logger:Initialization 7/10: Inertia = 1.35, Iterations = 5, Time = 0.00 seconds\n",
      "INFO:kmeans_logger:Initialization 8/10: Inertia = 1.35, Iterations = 5, Time = 0.00 seconds\n",
      "INFO:kmeans_logger:Initialization 9/10: Inertia = 1.35, Iterations = 5, Time = 0.00 seconds\n",
      "INFO:kmeans_logger:Initialization 10/10: Inertia = 1.35, Iterations = 5, Time = 0.00 seconds\n",
      "INFO:kmeans_logger:KMeans clustering complete. Best inertia: 1.27\n",
      "INFO:kmeans_logger:Total kmeans clustering time: 0.01 seconds\n"
     ]
    },
    {
     "data": {
      "text/plain": [
       "([1, 1, 0, 0], 1.265923023223877)"
      ]
     },
     "execution_count": 8,
     "metadata": {},
     "output_type": "execute_result"
    }
   ],
   "source": [
    "wl.cluster(candidates, k=2 , max_iterations=100 , tolerance=1e-4)\n"
   ]
  },
  {
   "cell_type": "code",
   "execution_count": 9,
   "metadata": {},
   "outputs": [
    {
     "data": {
      "text/plain": [
       "['i went to the vehicle']"
      ]
     },
     "execution_count": 9,
     "metadata": {},
     "output_type": "execute_result"
    }
   ],
   "source": [
    "wl.filter(query, candidates ,threshold=0.3)\n",
    " "
   ]
  },
  {
   "cell_type": "code",
   "execution_count": 10,
   "metadata": {},
   "outputs": [
    {
     "data": {
      "text/plain": [
       "['i went to the vehicle', 'i went to the truck', 'i went to the shop']"
      ]
     },
     "execution_count": 10,
     "metadata": {},
     "output_type": "execute_result"
    }
   ],
   "source": [
    "wl.topk(query, candidates, k=3)"
   ]
  }
 ],
 "metadata": {
  "kernelspec": {
   "display_name": "Python 3",
   "language": "python",
   "name": "python3"
  },
  "language_info": {
   "codemirror_mode": {
    "name": "ipython",
    "version": 3
   },
   "file_extension": ".py",
   "mimetype": "text/x-python",
   "name": "python",
   "nbconvert_exporter": "python",
   "pygments_lexer": "ipython3",
   "version": "3.10.11"
  }
 },
 "nbformat": 4,
 "nbformat_minor": 2
}
